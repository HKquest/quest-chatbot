{
 "cells": [
  {
   "cell_type": "code",
   "execution_count": 1,
   "id": "6486561e-d486-4ddc-8057-f37cb0e6e376",
   "metadata": {},
   "outputs": [],
   "source": [
    "PDF_FILE = \"IMM.pdf\"\n",
    "FILE = \"address.pdf\"\n",
    "\n",
    "MODEL = \"llama3.2\""
   ]
  },
  {
   "cell_type": "code",
   "execution_count": 2,
   "id": "ce531270-75b9-443a-a31c-541b4012458e",
   "metadata": {},
   "outputs": [
    {
     "name": "stdout",
     "output_type": "stream",
     "text": [
      "Number of pages: 4\n",
      "Length of pages: 2331\n",
      "Content of pages: Providence St Vincent Medical Center 9205 SW Barnes Rd. Portland, OR 97225 (503) 216-1234 \n",
      " \n",
      "Important Message from Medicare \n",
      "Patient name:     Patient number: \n",
      " \n",
      "Your Rights as a Hospital Inpatient: \n",
      " \n",
      "• You can receive Medicare covered services. This includes medically necessary hospital \n",
      "services and services you may need after you are discharged, if ordered by your doctor.  \n",
      "You have a right to know about these services, who will pay for them, and where you can \n",
      "get them.  \n",
      " \n",
      "• You can be involved in any decisions about your hospital stay. \n",
      " \n",
      "• You can report any concerns you have about the quality of care you receive to your QIO \n",
      "at: Acentra Health 1-888-305-6759 The QIO is the independent reviewer authorized by \n",
      "Medicare to review the decision to discharge you. \n",
      " \n",
      "• You can work with the hospital to prepare for your safe discharge and arrange for \n",
      "services you may need after you leave the hospital. When you no longer need inpatient \n",
      "hospital care, your doctor or the hospital staff will inform you of your planned discharge \n",
      "date. \n",
      " \n",
      "• You can speak with your doctor or other hospital staff if you have concerns about being \n",
      "discharged.  \n",
      "Your Right to Appeal Your Hospital Discharge: \n",
      "• You have the right to an immediate, independent medical review (appeal) of the \n",
      "decision to discharge you from the hospital.  If you do this, you will not have to pay for \n",
      "the services you receive during the appeal (except for charges like copays and \n",
      "deductibles). \n",
      " \n",
      "• If you choose to appeal, the independent reviewer will ask for your opinion.  The \n",
      "reviewer also will look at your medical records and/or other relevant information.  You \n",
      "do not have to prepare anything in writing, but you have the right to do so if you wish.   \n",
      " \n",
      "• If you choose to appeal, you and the reviewer will each receive a copy of a detailed \n",
      "explanation about why your covered hospital stay should not continue.  You will \n",
      "receive this detailed notice only after you request an appeal. \n",
      " \n",
      "• If the QIO finds that you are not ready to be discharged from the hospital, Medicare \n",
      "will continue to cover your hospital services.   \n",
      " \n",
      "• If the QIO agrees services should no longer be covered after the discharge date, \n",
      "neither Medicare nor your Medicare health plan will pay for your hospital stay after \n",
      "noon of the day after the QIO notifies you of its decision. If you stop services no later \n",
      "than that time, you will avoid financial liability.  \n",
      " \n",
      "• If you do not appeal, you may have to pay for any services you receive after your \n",
      "discharge date. \n",
      "See page 2 of this notice for more information.\n"
     ]
    }
   ],
   "source": [
    "from langchain_community.document_loaders import PyPDFLoader\n",
    "\n",
    "loader = PyPDFLoader(PDF_FILE)\n",
    "pages = loader.load()\n",
    "\n",
    "second_loader = PyPDFLoader(FILE)\n",
    "page_three = second_loader.load()\n",
    "\n",
    "pages = pages + page_three\n",
    "\n",
    "print(f\"Number of pages: {len(pages)}\")\n",
    "print(f\"Length of pages: {len(pages[1].page_content)}\")\n",
    "print(\"Content of pages:\", pages[0].page_content)"
   ]
  },
  {
   "cell_type": "code",
   "execution_count": 3,
   "id": "91d83d50-3328-4056-81bc-82b48729ec98",
   "metadata": {},
   "outputs": [
    {
     "name": "stdout",
     "output_type": "stream",
     "text": [
      "Number of chunks: 9\n",
      "Length of a chunk: 1206\n",
      "Content of a chunk: the services you receive during the appeal (except for charges like copays and \n",
      "deductibles). \n",
      " \n",
      "• If you choose to appeal, the independent reviewer will ask for your opinion.  The \n",
      "reviewer also will look at your medical records and/or other relevant information.  You \n",
      "do not have to prepare anything in writing, but you have the right to do so if you wish.   \n",
      " \n",
      "• If you choose to appeal, you and the reviewer will each receive a copy of a detailed \n",
      "explanation about why your covered hospital stay should not continue.  You will \n",
      "receive this detailed notice only after you request an appeal. \n",
      " \n",
      "• If the QIO finds that you are not ready to be discharged from the hospital, Medicare \n",
      "will continue to cover your hospital services.   \n",
      " \n",
      "• If the QIO agrees services should no longer be covered after the discharge date, \n",
      "neither Medicare nor your Medicare health plan will pay for your hospital stay after \n",
      "noon of the day after the QIO notifies you of its decision. If you stop services no later \n",
      "than that time, you will avoid financial liability.  \n",
      " \n",
      "• If you do not appeal, you may have to pay for any services you receive after your \n",
      "discharge date. \n",
      "See page 2 of this notice for more information.\n"
     ]
    }
   ],
   "source": [
    "# Chunking\n",
    "from langchain_text_splitters import RecursiveCharacterTextSplitter\n",
    "splitter = RecursiveCharacterTextSplitter(chunk_size=1500, chunk_overlap=100)\n",
    "\n",
    "chunks = splitter.split_documents(pages)\n",
    "print(f\"Number of chunks: {len(chunks)}\")\n",
    "print(f\"Length of a chunk: {len(chunks[1].page_content)}\")\n",
    "print(f\"Content of a chunk:\", chunks[1].page_content)"
   ]
  },
  {
   "cell_type": "code",
   "execution_count": 4,
   "id": "a31e1fad-ede3-42a0-9f3c-17a50af5898c",
   "metadata": {},
   "outputs": [
    {
     "name": "stdout",
     "output_type": "stream",
     "text": [
      "Starting the vectorstore creation/loading process\n",
      "Loading FAISS index from the disk\n"
     ]
    }
   ],
   "source": [
    "# Storing the chunks in vector store\n",
    "from langchain_community.vectorstores import FAISS\n",
    "from langchain_ollama import OllamaEmbeddings\n",
    "embeddings = OllamaEmbeddings(model=MODEL)\n",
    "#vectorstore = FAISS.from_documents(chunks, embeddings)\n",
    "import os\n",
    "\n",
    "VECTOR_DB_PATH = \"faiss_index\"\n",
    "\n",
    "print(\"Starting the vectorstore creation/loading process\")\n",
    "\n",
    "if os.path.exists(VECTOR_DB_PATH):\n",
    "    print(\"Loading FAISS index from the disk\")\n",
    "    vectorstore = FAISS.load_local(VECTOR_DB_PATH, embeddings, allow_dangerous_deserialization=True)\n",
    "    # Using allow_dangerous_deserialization=True is a security issue, be careful when uploading documents\n",
    "else:\n",
    "    print(\"Creating FAISS index and saving to the disk\")\n",
    "    chunks = splitter.split_documents(pages)\n",
    "    vectorstore = FAISS.from_documents(chunks, embeddings)\n",
    "    vectorstore.save_local(VECTOR_DB_PATH)"
   ]
  },
  {
   "cell_type": "code",
   "execution_count": null,
   "id": "c968aa4c-dc62-4357-bebc-32a0c55ec4fc",
   "metadata": {},
   "outputs": [],
   "source": [
    "# Setting up a retriever \n",
    "# We can use a retriever to find chunks in the vector store that are similar to a supplied question\n",
    "\n",
    "retriever = vectorstore.as_retriever()\n",
    "retriever.invoke(\"What if I miss the deadline?\")"
   ]
  },
  {
   "cell_type": "code",
   "execution_count": null,
   "id": "85a7e098-eba5-4e8f-baa8-0d74fda1f4e8",
   "metadata": {},
   "outputs": [],
   "source": [
    "# Configuring the Model\n",
    "# We will use Ollama to load the local model in memory. After creating the model, we can invoke the model with a question and get the response back\n",
    "from langchain_ollama import ChatOllama\n",
    "\n",
    "model = ChatOllama(model=MODEL, temperature=0)\n",
    "model.invoke(\"Who is the president of the United States?\")"
   ]
  },
  {
   "cell_type": "code",
   "execution_count": null,
   "id": "0a286464-6f8d-4adb-ae99-12fca60ae430",
   "metadata": {},
   "outputs": [],
   "source": [
    "# Parsing the model's response\n",
    "# The response from the model is an AIMesssage instance containing the answer. We can extract the text answer by using the appropriate output parser.\n",
    "# We can connect the model and a parser using a chain\n",
    "\n",
    "from langchain_core.output_parsers import StrOutputParser\n",
    "\n",
    "parser = StrOutputParser()\n",
    "chain = model | parser\n",
    "print(chain.invoke(\"Who is the president of the United States?\"))"
   ]
  },
  {
   "cell_type": "code",
   "execution_count": null,
   "id": "676a8b40-d90f-4559-b299-1e99dce7dc15",
   "metadata": {},
   "outputs": [],
   "source": [
    "# Setting up a prompt\n",
    "# In addition to the questions we want to ask, we also want to provide the model with the context of the PDF file. \n",
    "# We can use a prompt template to define and reuse the prompt we will use with the model\n",
    "\n",
    "from langchain.prompts import PromptTemplate\n",
    "\n",
    "template = \"\"\"\n",
    "You are an assistant that provides answers to questions based on a given context.\n",
    "\n",
    "Answer the question based on the context. If you can't answer the question, reply \"I don't know\".\n",
    "\n",
    "Be as concise as possible and go straight to the point.\n",
    "\n",
    "Context: {context}\n",
    "\n",
    "Question: {question}\n",
    "\"\"\"\n",
    "\n",
    "prompt = PromptTemplate.from_template(template)\n",
    "print(prompt.format(context=\"Here is some context\", question=\"Here is a question\"))"
   ]
  },
  {
   "cell_type": "code",
   "execution_count": null,
   "id": "732e4a71-7904-48eb-84ed-5365500b0dd2",
   "metadata": {},
   "outputs": [],
   "source": [
    "# Adding the prompt to the chain\n",
    "# We can now chain the prompt with the model and the parser\n",
    "\n",
    "chain = prompt | model | parser\n",
    "chain.invoke(\n",
    "    {\"context\": \"If you have original Medicare call 1-888-305-6759\",\n",
    "     \"question\": \"What number do ypu call if you have original medicare?\"\n",
    "    })\n",
    "     "
   ]
  },
  {
   "cell_type": "code",
   "execution_count": null,
   "id": "67b2d97a-40b1-4a6d-a613-32926ab4cbf0",
   "metadata": {},
   "outputs": [],
   "source": [
    "# Adding the retriver to the chain\n",
    "# Finally we can connect the retriever to the chain and get the context from the vector store\n",
    "\n",
    "from operator import itemgetter\n",
    "\n",
    "chain = (\n",
    "    {\n",
    "        \"context\": itemgetter(\"question\") | retriever,\n",
    "        \"question\": itemgetter(\"question\"),\n",
    "    }\n",
    "    | prompt\n",
    "    | model\n",
    "    | parser\n",
    ")"
   ]
  },
  {
   "cell_type": "code",
   "execution_count": null,
   "id": "f8665626-5695-4e76-8d8a-8f4a98789c32",
   "metadata": {},
   "outputs": [],
   "source": [
    "questions = [\n",
    "    #\"What happens if I do not appeal?\",\n",
    "    #\"What number do I call, if I have concerns about the quality of my care\",\n",
    "    #\"Who do I call if I have providence medicare\"\n",
    "    #\"Tell me Providence hospital address\"\n",
    "    #\"What is Acentra Health\"\n",
    "    \"Who do I report to with concerns about my quality of care\",\n",
    "    \"Where is Providence St Vincent's Medical center in Portland Oregon and give me the address\"\n",
    "]\n",
    "\n",
    "for question in questions:\n",
    "    print(f\"Question: {question}\")\n",
    "    print(f\"Answer: {chain.invoke({'question':question})}\")\n",
    "    print(\"************************\")\n",
    "\n"
   ]
  },
  {
   "cell_type": "code",
   "execution_count": null,
   "id": "6bf5d9d7-30b7-4b2c-b31f-75b2e9a7059c",
   "metadata": {},
   "outputs": [],
   "source": [
    "# Notes"
   ]
  }
 ],
 "metadata": {
  "kernelspec": {
   "display_name": "Python 3",
   "language": "python",
   "name": "python3"
  },
  "language_info": {
   "codemirror_mode": {
    "name": "ipython",
    "version": 3
   },
   "file_extension": ".py",
   "mimetype": "text/x-python",
   "name": "python",
   "nbconvert_exporter": "python",
   "pygments_lexer": "ipython3",
   "version": "3.10.6"
  }
 },
 "nbformat": 4,
 "nbformat_minor": 5
}
